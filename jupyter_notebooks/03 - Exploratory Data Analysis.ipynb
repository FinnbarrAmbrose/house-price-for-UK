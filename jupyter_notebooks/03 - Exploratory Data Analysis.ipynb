{
  "cells": [
    {
      "cell_type": "markdown",
      "metadata": {},
      "source": [
        "# 03 - Exploratory Data Analysis\n",
        "\n",
        "In this notebook, we explore the cleaned house price dataset to understand patterns and trends in the data.\n",
        "\n",
        "**Objectives:**\n",
        "- Understand the distribution of house prices\n",
        "- Explore trends over time\n",
        "- Identify differences between regions\n",
        "- Understand correlations between variables\n"
      ]
    },
    {
      "cell_type": "markdown",
      "id": "404ea088",
      "metadata": {},
      "source": [
        "This imports three Python libraries\n",
        "    \n",
        "-pandas witch helps work with data in tables\n",
        "\n",
        "-matplotlib.pyplot lets you create charts.\n",
        "\n",
        "-seaborn helps you make nicer, more advanced charts.\n",
        "\n",
        "\n",
        "then it reads the cleaned data from the saved file and stores it in a variable called df so i can start exploring it "
      ]
    },
    {
      "cell_type": "code",
      "execution_count": null,
      "metadata": {},
      "outputs": [],
      "source": [
        "import pandas as pd\n",
        "import matplotlib.pyplot as plt\n",
        "import seaborn as sns\n",
        "\n",
        "\n",
        "df_chunk = pd.read_csv(\"../outputs/datasets/collection/HousePricesRecords_clean.csv\")"
      ]
    },
    {
      "cell_type": "markdown",
      "metadata": {},
      "source": [
        "### Summary Statistics\n",
        "this gives an overview of numerical columns ."
      ]
    },
    {
      "cell_type": "code",
      "execution_count": null,
      "metadata": {},
      "outputs": [],
      "source": [
        "df_chunk.describe()"
      ]
    },
    {
      "cell_type": "markdown",
      "metadata": {},
      "source": [
        "### Value Counts for Key Categorical Columns\n",
        "Shows how often each value appears in selected columns helps spot issues and understand the data distribution."
      ]
    },
    {
      "cell_type": "code",
      "execution_count": null,
      "metadata": {},
      "outputs": [],
      "source": [
        "categorical_cols = [\"Old/New\", \"Duration\", \"County\", \"Town/City\"]\n",
        "for col in categorical_cols:\n",
        "    print(f\"\\nValue counts for {col}:\")\n",
        "    print(df_chunk[col].value_counts())"
      ]
    },
    {
      "cell_type": "markdown",
      "metadata": {},
      "source": [
        "### Distribution of House Prices\n",
        "This shows the spread of house prices."
      ]
    },
    {
      "cell_type": "code",
      "execution_count": null,
      "metadata": {},
      "outputs": [],
      "source": [
        "plt.figure(figsize=(10, 6))\n",
        "sns.histplot(df_chunk['Price'], bins=50, kde=True)\n",
        "plt.title('Distribution of House Prices')\n",
        "plt.xlabel('Price')\n",
        "plt.ylabel('Frequency')\n",
        "plt.show()"
      ]
    },
    {
      "cell_type": "markdown",
      "metadata": {},
      "source": [
        "### Average House Price Per Year\n",
        "This highlights trends in pricing over time."
      ]
    },
    {
      "cell_type": "code",
      "execution_count": null,
      "metadata": {},
      "outputs": [],
      "source": [
        "avg_price_year = df_chunk.groupby(\"Year\")['Price'].mean()\n",
        "avg_price_year.plot(kind='line', marker='o', figsize=(10, 5))\n",
        "plt.title('Average House Price Per Year')\n",
        "plt.ylabel('Average Price')\n",
        "plt.xlabel('Year')\n",
        "plt.grid(True)\n",
        "plt.show()"
      ]
    },
    {
      "cell_type": "markdown",
      "metadata": {},
      "source": [
        "### Average House Price by County\n",
        "Shows regional price differences."
      ]
    },
    {
      "cell_type": "code",
      "execution_count": null,
      "metadata": {},
      "outputs": [],
      "source": [
        "plt.figure(figsize=(14, 6))\n",
        "df_chunk.groupby(\"County\")[\"Price\"].mean().sort_values(ascending=False).plot(kind='bar')\n",
        "plt.title(\"Average House Price by County\")\n",
        "plt.ylabel(\"Average Price\")\n",
        "plt.xticks(rotation=90)\n",
        "plt.show()"
      ]
    },
    {
      "cell_type": "markdown",
      "metadata": {},
      "source": [
        "### Correlation Heatmap\n",
        "Understand relationships between numerical variables."
      ]
    },
    {
      "cell_type": "code",
      "execution_count": null,
      "metadata": {},
      "outputs": [],
      "source": [
        "plt.figure(figsize=(10, 8))\n",
        "sns.heatmap(df_chunk.corr(numeric_only=True), annot=True, cmap=\"coolwarm\", fmt=\".2f\")\n",
        "plt.title(\"Correlation Heatmap\")\n",
        "plt.show()"
      ]
    }
  ],
  "metadata": {
    "kernelspec": {
      "display_name": "3.12.1",
      "language": "python",
      "name": "python3"
    },
    "language_info": {
      "codemirror_mode": {
        "name": "ipython",
        "version": 3
      },
      "file_extension": ".py",
      "mimetype": "text/x-python",
      "name": "python",
      "nbconvert_exporter": "python",
      "pygments_lexer": "ipython3",
      "version": "3.12.1"
    }
  },
  "nbformat": 4,
  "nbformat_minor": 5
}
