{
 "cells": [
  {
   "cell_type": "markdown",
   "id": "e8a0a2e8",
   "metadata": {},
   "source": [
    "# 04 – Hypothesis Testing & Statistical Evaluation  \n",
    "**CRISP-DM Phase 5: Evaluation**  \n",
    "We validate our market hypotheses with formal statistical tests and decide on accept/reject at α = 0.05.\n",
    "\n",
    "### Objectives\n",
    "* Formulate and test the hypothesis:  \n",
    "  1. **H1** – New builds > Old builds in mean sale price (Welch’s t-test).  \n",
    "  2. **H2** – Price differs by Property Type (one-way ANOVA + Tukey post-hoc).  \n",
    "  3. **(Optional H3)** – County-level comparison (e.g. London vs Rest of E&W).  \n",
    "* Compute test statistics and p-values.  \n",
    "* Make clear accept/reject decisions at α = 0.05.\n",
    "\n",
    "### Inputs\n",
    "* `outputs/datasets/collection/HousePricesRecords_clean.csv`  \n",
    "\n",
    "### Outputs\n",
    "* Inline test summaries: t-statistic, F-statistic, p-values  \n",
    "* Markdown verdicts (“Reject H₀” or “Fail to reject H₀”)  \n",
    "\n",
    "### Additional Comments  \n",
    "#### Business Requirements Addressed  \n",
    "* **BR2**: Provides statistical evidence on market hypotheses for the Hypotheses tab.  \n",
    "\n",
    "#### Additional Notes  \n",
    "* Save any summary tables (e.g. ANOVA table) for download in the Streamlit page.  \n",
    "\n",
    "---"
   ]
  },
  {
   "cell_type": "markdown",
   "id": "44459557",
   "metadata": {},
   "source": [
    "### Import Required Libraries  \n",
    "This cell brings in the packages needed to perform our statistical tests and visualise the results:  \n",
    "- **pandas** (`pd`) for data manipulation.  \n",
    "- **scipy.stats** for Welch’s t-test and one-way ANOVA functions.  \n",
    "- **matplotlib.pyplot** and **seaborn** for plotting test results and distributions.\n"
   ]
  },
  {
   "cell_type": "code",
   "execution_count": 1,
   "id": "9fbeaeb1",
   "metadata": {},
   "outputs": [],
   "source": [
    "import pandas as pd\n",
    "from scipy import stats\n",
    "import matplotlib.pyplot as plt\n",
    "import seaborn as sns"
   ]
  },
  {
   "cell_type": "markdown",
   "id": "d8e9c92c",
   "metadata": {},
   "source": [
    "#### Load Cleaned Dataset for Testing  \n",
    "This cell reads in the fully cleaned dataset (`HousePricesRecords_clean.csv`) produced in Notebook 02. We display the first few rows with `.head()` to confirm that the data has loaded correctly and contains the expected columns for our statistical tests.\n"
   ]
  },
  {
   "cell_type": "code",
   "execution_count": 2,
   "id": "46b3d6e2",
   "metadata": {},
   "outputs": [
    {
     "data": {
      "text/html": [
       "<div>\n",
       "<style scoped>\n",
       "    .dataframe tbody tr th:only-of-type {\n",
       "        vertical-align: middle;\n",
       "    }\n",
       "\n",
       "    .dataframe tbody tr th {\n",
       "        vertical-align: top;\n",
       "    }\n",
       "\n",
       "    .dataframe thead th {\n",
       "        text-align: right;\n",
       "    }\n",
       "</style>\n",
       "<table border=\"1\" class=\"dataframe\">\n",
       "  <thead>\n",
       "    <tr style=\"text-align: right;\">\n",
       "      <th></th>\n",
       "      <th>Price</th>\n",
       "      <th>Date of Transfer</th>\n",
       "      <th>Old/New</th>\n",
       "      <th>Duration</th>\n",
       "      <th>Town/City</th>\n",
       "      <th>County</th>\n",
       "      <th>PPDCategory Type</th>\n",
       "      <th>Year</th>\n",
       "      <th>Month</th>\n",
       "      <th>Property_D</th>\n",
       "      <th>Property_F</th>\n",
       "      <th>Property_O</th>\n",
       "      <th>Property_S</th>\n",
       "      <th>Property_T</th>\n",
       "      <th>Region</th>\n",
       "      <th>RegionMedianPrice</th>\n",
       "      <th>RegionSaleCount</th>\n",
       "      <th>CountyMedianPrice</th>\n",
       "      <th>CountySaleCount</th>\n",
       "      <th>LogPrice</th>\n",
       "    </tr>\n",
       "  </thead>\n",
       "  <tbody>\n",
       "    <tr>\n",
       "      <th>0</th>\n",
       "      <td>277000</td>\n",
       "      <td>2017-06-29</td>\n",
       "      <td>0</td>\n",
       "      <td>1</td>\n",
       "      <td>WICKFORD</td>\n",
       "      <td>ESSEX</td>\n",
       "      <td>A</td>\n",
       "      <td>2017</td>\n",
       "      <td>6</td>\n",
       "      <td>False</td>\n",
       "      <td>False</td>\n",
       "      <td>False</td>\n",
       "      <td>True</td>\n",
       "      <td>False</td>\n",
       "      <td>WICKFORD</td>\n",
       "      <td>301000.0</td>\n",
       "      <td>2</td>\n",
       "      <td>299995.0</td>\n",
       "      <td>29</td>\n",
       "      <td>12.531776</td>\n",
       "    </tr>\n",
       "    <tr>\n",
       "      <th>1</th>\n",
       "      <td>30000</td>\n",
       "      <td>2017-06-29</td>\n",
       "      <td>0</td>\n",
       "      <td>0</td>\n",
       "      <td>HULL</td>\n",
       "      <td>CITY OF KINGSTON UPON HULL</td>\n",
       "      <td>A</td>\n",
       "      <td>2017</td>\n",
       "      <td>6</td>\n",
       "      <td>False</td>\n",
       "      <td>True</td>\n",
       "      <td>False</td>\n",
       "      <td>False</td>\n",
       "      <td>False</td>\n",
       "      <td>HULL</td>\n",
       "      <td>95000.0</td>\n",
       "      <td>5</td>\n",
       "      <td>95000.0</td>\n",
       "      <td>5</td>\n",
       "      <td>10.308986</td>\n",
       "    </tr>\n",
       "    <tr>\n",
       "      <th>2</th>\n",
       "      <td>551000</td>\n",
       "      <td>2017-06-29</td>\n",
       "      <td>0</td>\n",
       "      <td>1</td>\n",
       "      <td>CHISLEHURST</td>\n",
       "      <td>GREATER LONDON</td>\n",
       "      <td>A</td>\n",
       "      <td>2017</td>\n",
       "      <td>6</td>\n",
       "      <td>False</td>\n",
       "      <td>False</td>\n",
       "      <td>False</td>\n",
       "      <td>False</td>\n",
       "      <td>True</td>\n",
       "      <td>CHISLEHURST</td>\n",
       "      <td>551000.0</td>\n",
       "      <td>1</td>\n",
       "      <td>485000.0</td>\n",
       "      <td>77</td>\n",
       "      <td>13.219492</td>\n",
       "    </tr>\n",
       "    <tr>\n",
       "      <th>3</th>\n",
       "      <td>240000</td>\n",
       "      <td>2017-06-29</td>\n",
       "      <td>0</td>\n",
       "      <td>1</td>\n",
       "      <td>BEDFORD</td>\n",
       "      <td>BEDFORD</td>\n",
       "      <td>B</td>\n",
       "      <td>2017</td>\n",
       "      <td>6</td>\n",
       "      <td>False</td>\n",
       "      <td>False</td>\n",
       "      <td>False</td>\n",
       "      <td>True</td>\n",
       "      <td>False</td>\n",
       "      <td>BEDFORD</td>\n",
       "      <td>385000.0</td>\n",
       "      <td>7</td>\n",
       "      <td>385000.0</td>\n",
       "      <td>7</td>\n",
       "      <td>12.388398</td>\n",
       "    </tr>\n",
       "    <tr>\n",
       "      <th>4</th>\n",
       "      <td>527500</td>\n",
       "      <td>2017-06-29</td>\n",
       "      <td>0</td>\n",
       "      <td>1</td>\n",
       "      <td>HEMEL HEMPSTEAD</td>\n",
       "      <td>HERTFORDSHIRE</td>\n",
       "      <td>B</td>\n",
       "      <td>2017</td>\n",
       "      <td>6</td>\n",
       "      <td>True</td>\n",
       "      <td>False</td>\n",
       "      <td>False</td>\n",
       "      <td>False</td>\n",
       "      <td>False</td>\n",
       "      <td>HEMEL HEMPSTEAD</td>\n",
       "      <td>527500.0</td>\n",
       "      <td>1</td>\n",
       "      <td>336500.0</td>\n",
       "      <td>18</td>\n",
       "      <td>13.175906</td>\n",
       "    </tr>\n",
       "  </tbody>\n",
       "</table>\n",
       "</div>"
      ],
      "text/plain": [
       "    Price Date of Transfer  Old/New  Duration        Town/City  \\\n",
       "0  277000       2017-06-29        0         1         WICKFORD   \n",
       "1   30000       2017-06-29        0         0             HULL   \n",
       "2  551000       2017-06-29        0         1      CHISLEHURST   \n",
       "3  240000       2017-06-29        0         1          BEDFORD   \n",
       "4  527500       2017-06-29        0         1  HEMEL HEMPSTEAD   \n",
       "\n",
       "                       County PPDCategory Type  Year  Month  Property_D  \\\n",
       "0                       ESSEX                A  2017      6       False   \n",
       "1  CITY OF KINGSTON UPON HULL                A  2017      6       False   \n",
       "2              GREATER LONDON                A  2017      6       False   \n",
       "3                     BEDFORD                B  2017      6       False   \n",
       "4               HERTFORDSHIRE                B  2017      6        True   \n",
       "\n",
       "   Property_F  Property_O  Property_S  Property_T           Region  \\\n",
       "0       False       False        True       False         WICKFORD   \n",
       "1        True       False       False       False             HULL   \n",
       "2       False       False       False        True      CHISLEHURST   \n",
       "3       False       False        True       False          BEDFORD   \n",
       "4       False       False       False       False  HEMEL HEMPSTEAD   \n",
       "\n",
       "   RegionMedianPrice  RegionSaleCount  CountyMedianPrice  CountySaleCount  \\\n",
       "0           301000.0                2           299995.0               29   \n",
       "1            95000.0                5            95000.0                5   \n",
       "2           551000.0                1           485000.0               77   \n",
       "3           385000.0                7           385000.0                7   \n",
       "4           527500.0                1           336500.0               18   \n",
       "\n",
       "    LogPrice  \n",
       "0  12.531776  \n",
       "1  10.308986  \n",
       "2  13.219492  \n",
       "3  12.388398  \n",
       "4  13.175906  "
      ]
     },
     "execution_count": 2,
     "metadata": {},
     "output_type": "execute_result"
    }
   ],
   "source": [
    "\n",
    "df_chunk = pd.read_csv(\"../outputs/datasets/collection/HousePricesRecords_clean.csv\")\n",
    "df_chunk.head()"
   ]
  },
  {
   "cell_type": "markdown",
   "id": "dc1db546",
   "metadata": {},
   "source": [
    "## Hypothesis 1: Are new houses more expensive than old ones?\n",
    "\n",
    "- **Null hypothesis (H0):** There is no significant difference in price between new and old houses.\n",
    "- **Alternative hypothesis (H1):** New houses are significantly more expensive than old houses.\n",
    "\n",
    "We'll use an independent t-test to compare the two groups.\n"
   ]
  },
  {
   "cell_type": "markdown",
   "id": "e07dfcaa",
   "metadata": {},
   "source": [
    "#### Separate Price Series for New and Existing Homes  \n",
    "This cell filters the cleaned DataFrame into two pandas Series based on the `Old/New` flag:  \n",
    "- **`new_prices`** contains the sale prices where `Old/New == 1` (new builds).  \n",
    "- **`old_prices`** contains the sale prices where `Old/New == 0` (existing homes).  \n",
    "\n",
    "By isolating these two groups, we can later apply Welch’s t-test to compare their mean prices.\n"
   ]
  },
  {
   "cell_type": "code",
   "execution_count": 3,
   "id": "095c6a69",
   "metadata": {},
   "outputs": [],
   "source": [
    "# Split data into two groups\n",
    "new_prices = df_chunk[df_chunk[\"Old/New\"] == 1][\"Price\"]\n",
    "old_prices = df_chunk[df_chunk[\"Old/New\"] == 0][\"Price\"]"
   ]
  },
  {
   "cell_type": "markdown",
   "id": "fa4234cd",
   "metadata": {},
   "source": [
    "#### Perform Welch’s t-test on New vs Existing Homes  \n",
    "This cell applies Welch’s t-test (which does not assume equal variances) to compare the mean sale prices of new builds (`new_prices`) against existing homes (`old_prices`):\n",
    "\n",
    "1. `stats.ttest_ind(..., equal_var=False)` returns the **t-statistic** and **p-value**.  \n",
    "2. The **p-value** is compared to a significance level (α = 0.05).  \n",
    "3. If `p_val < 0.05`, we **reject the null hypothesis**—indicating a statistically significant difference in mean prices. Otherwise, we **fail to reject** the null hypothesis.\n"
   ]
  },
  {
   "cell_type": "code",
   "execution_count": 4,
   "id": "e20c60f2",
   "metadata": {},
   "outputs": [
    {
     "name": "stdout",
     "output_type": "stream",
     "text": [
      "T-statistic: -3.96\n",
      "P-value: 0.0051\n",
      "Reject the null hypothesis – New houses are significantly more expensive.\n"
     ]
    }
   ],
   "source": [
    "t_stat, p_val = stats.ttest_ind(new_prices, old_prices, equal_var=False)\n",
    "\n",
    "print(f\"T-statistic: {t_stat:.2f}\")\n",
    "print(f\"P-value: {p_val:.4f}\")\n",
    "\n",
    "if p_val < 0.05:\n",
    "    print(\"Reject the null hypothesis – New houses are significantly more expensive.\")\n",
    "else:\n",
    "    print(\"Fail to reject the null hypothesis – No significant difference in price.\")"
   ]
  },
  {
   "cell_type": "markdown",
   "id": "c8b94d15",
   "metadata": {},
   "source": [
    "## Hypothesis 2: Does house price vary by property type?\n",
    "\n",
    "- **Null hypothesis (H0):** All property types have the same average price.\n",
    "- **Alternative hypothesis (H1):** At least one property type has a different average price.\n",
    "\n",
    "We'll use a one-way ANOVA test.\n"
   ]
  },
  {
   "cell_type": "markdown",
   "id": "202afd13",
   "metadata": {},
   "source": [
    "#### List All Columns in the Cleaned DataFrame  \n",
    "This cell prints out all column names in `df_chunk`, helping you confirm which features are available for grouping and statistical tests (e.g., property flags, date fields) and ensuring you reference the correct names in subsequent analysis.\n"
   ]
  },
  {
   "cell_type": "code",
   "execution_count": 5,
   "id": "9ccf69f3",
   "metadata": {},
   "outputs": [
    {
     "name": "stdout",
     "output_type": "stream",
     "text": [
      "Index(['Price', 'Date of Transfer', 'Old/New', 'Duration', 'Town/City',\n",
      "       'County', 'PPDCategory Type', 'Year', 'Month', 'Property_D',\n",
      "       'Property_F', 'Property_O', 'Property_S', 'Property_T', 'Region',\n",
      "       'RegionMedianPrice', 'RegionSaleCount', 'CountyMedianPrice',\n",
      "       'CountySaleCount', 'LogPrice'],\n",
      "      dtype='object')\n"
     ]
    }
   ],
   "source": [
    "print(df_chunk.columns)"
   ]
  },
  {
   "cell_type": "markdown",
   "id": "6d3e9301",
   "metadata": {},
   "source": [
    "#### Extract Sale Prices by Property Type  \n",
    "This cell defines the one-hot encoded property type columns (`Property_D`, `Property_F`, `Property_S`, `Property_T`) and then builds a list of pandas Series, each containing the sale prices for properties where that flag equals 1. The resulting `grouped_prices` list will be used as input to the one-way ANOVA test in the next step.\n"
   ]
  },
  {
   "cell_type": "code",
   "execution_count": 6,
   "id": "69929150",
   "metadata": {},
   "outputs": [],
   "source": [
    "property_types = ['Property_D', 'Property_F', 'Property_S', 'Property_T']\n",
    "grouped_prices = [df_chunk[df_chunk[col] == 1][\"Price\"] for col in property_types if col in df_chunk.columns]\n",
    "\n"
   ]
  },
  {
   "cell_type": "markdown",
   "id": "6cd2d6da",
   "metadata": {},
   "source": [
    "#### Conduct One-Way ANOVA Across Property Types  \n",
    "This cell runs a one-way ANOVA to test whether mean sale prices differ significantly between our four property-type groups (`Property_D`, `Property_F`, `Property_S`, `Property_T`):\n",
    "\n",
    "1. `stats.f_oneway(*grouped_prices)` computes the **F-statistic** and **p-value** across the input price series.  \n",
    "2. We compare the **p-value** to α = 0.05.  \n",
    "3. If `p_val < 0.05`, we **reject the null hypothesis**—indicating that at least one property type has a significantly different average price. Otherwise, we **fail to reject** the null.\n"
   ]
  },
  {
   "cell_type": "code",
   "execution_count": 7,
   "id": "01493787",
   "metadata": {},
   "outputs": [
    {
     "name": "stdout",
     "output_type": "stream",
     "text": [
      "F-statistic: 43.93\n",
      "P-value: 0.0000\n",
      "Reject the null hypothesis – Property type affects price.\n"
     ]
    }
   ],
   "source": [
    "f_stat, p_val = stats.f_oneway(*grouped_prices)\n",
    "print(f\"F-statistic: {f_stat:.2f}\")\n",
    "print(f\"P-value: {p_val:.4f}\")\n",
    "\n",
    "if p_val < 0.05:\n",
    "    print(\"Reject the null hypothesis – Property type affects price.\")\n",
    "else:\n",
    "    print(\"Fail to reject the null hypothesis – No significant difference between property types.\")"
   ]
  }
 ],
 "metadata": {
  "kernelspec": {
   "display_name": "Python 3",
   "language": "python",
   "name": "python3"
  },
  "language_info": {
   "codemirror_mode": {
    "name": "ipython",
    "version": 3
   },
   "file_extension": ".py",
   "mimetype": "text/x-python",
   "name": "python",
   "nbconvert_exporter": "python",
   "pygments_lexer": "ipython3",
   "version": "3.12.1"
  }
 },
 "nbformat": 4,
 "nbformat_minor": 5
}
