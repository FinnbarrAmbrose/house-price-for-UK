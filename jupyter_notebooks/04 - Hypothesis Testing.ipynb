{
 "cells": [
  {
   "cell_type": "markdown",
   "id": "e8a0a2e8",
   "metadata": {},
   "source": [
    "# 04 - Hypothesis Testing\n",
    "\n",
    "*This notebook is exploratory and may be removed if it does not meaningfully contribute to the project. It has been included to strengthen the analysis and aim for a distinction.*\n",
    "\n",
    "## Objectives\n",
    "\n",
    "- Ask specific questions about the dataset\n",
    "- Use statistical tests to check assumptions and relationships\n",
    "- Support findings from EDA with quantitative evidence\n"
   ]
  },
  {
   "cell_type": "code",
   "execution_count": 2,
   "id": "46b3d6e2",
   "metadata": {},
   "outputs": [
    {
     "data": {
      "text/html": [
       "<div>\n",
       "<style scoped>\n",
       "    .dataframe tbody tr th:only-of-type {\n",
       "        vertical-align: middle;\n",
       "    }\n",
       "\n",
       "    .dataframe tbody tr th {\n",
       "        vertical-align: top;\n",
       "    }\n",
       "\n",
       "    .dataframe thead th {\n",
       "        text-align: right;\n",
       "    }\n",
       "</style>\n",
       "<table border=\"1\" class=\"dataframe\">\n",
       "  <thead>\n",
       "    <tr style=\"text-align: right;\">\n",
       "      <th></th>\n",
       "      <th>Price</th>\n",
       "      <th>Date of Transfer</th>\n",
       "      <th>Old/New</th>\n",
       "      <th>Duration</th>\n",
       "      <th>Town/City</th>\n",
       "      <th>County</th>\n",
       "      <th>PPDCategory Type</th>\n",
       "      <th>Year</th>\n",
       "      <th>Month</th>\n",
       "      <th>Property_D</th>\n",
       "      <th>Property_F</th>\n",
       "      <th>Property_S</th>\n",
       "      <th>Property_T</th>\n",
       "    </tr>\n",
       "  </thead>\n",
       "  <tbody>\n",
       "    <tr>\n",
       "      <th>0</th>\n",
       "      <td>25000</td>\n",
       "      <td>1995-08-18</td>\n",
       "      <td>0</td>\n",
       "      <td>1</td>\n",
       "      <td>OLDHAM</td>\n",
       "      <td>GREATER MANCHESTER</td>\n",
       "      <td>A</td>\n",
       "      <td>1995</td>\n",
       "      <td>8</td>\n",
       "      <td>False</td>\n",
       "      <td>False</td>\n",
       "      <td>False</td>\n",
       "      <td>True</td>\n",
       "    </tr>\n",
       "    <tr>\n",
       "      <th>1</th>\n",
       "      <td>42500</td>\n",
       "      <td>1995-08-09</td>\n",
       "      <td>0</td>\n",
       "      <td>1</td>\n",
       "      <td>GRAYS</td>\n",
       "      <td>THURROCK</td>\n",
       "      <td>A</td>\n",
       "      <td>1995</td>\n",
       "      <td>8</td>\n",
       "      <td>False</td>\n",
       "      <td>False</td>\n",
       "      <td>True</td>\n",
       "      <td>False</td>\n",
       "    </tr>\n",
       "    <tr>\n",
       "      <th>2</th>\n",
       "      <td>45000</td>\n",
       "      <td>1995-06-30</td>\n",
       "      <td>0</td>\n",
       "      <td>1</td>\n",
       "      <td>HIGHBRIDGE</td>\n",
       "      <td>SOMERSET</td>\n",
       "      <td>A</td>\n",
       "      <td>1995</td>\n",
       "      <td>6</td>\n",
       "      <td>False</td>\n",
       "      <td>False</td>\n",
       "      <td>False</td>\n",
       "      <td>True</td>\n",
       "    </tr>\n",
       "    <tr>\n",
       "      <th>3</th>\n",
       "      <td>43150</td>\n",
       "      <td>1995-11-24</td>\n",
       "      <td>0</td>\n",
       "      <td>1</td>\n",
       "      <td>BEDFORD</td>\n",
       "      <td>BEDFORDSHIRE</td>\n",
       "      <td>A</td>\n",
       "      <td>1995</td>\n",
       "      <td>11</td>\n",
       "      <td>False</td>\n",
       "      <td>False</td>\n",
       "      <td>False</td>\n",
       "      <td>True</td>\n",
       "    </tr>\n",
       "    <tr>\n",
       "      <th>4</th>\n",
       "      <td>18899</td>\n",
       "      <td>1995-06-23</td>\n",
       "      <td>0</td>\n",
       "      <td>1</td>\n",
       "      <td>WAKEFIELD</td>\n",
       "      <td>WEST YORKSHIRE</td>\n",
       "      <td>A</td>\n",
       "      <td>1995</td>\n",
       "      <td>6</td>\n",
       "      <td>False</td>\n",
       "      <td>False</td>\n",
       "      <td>True</td>\n",
       "      <td>False</td>\n",
       "    </tr>\n",
       "  </tbody>\n",
       "</table>\n",
       "</div>"
      ],
      "text/plain": [
       "   Price Date of Transfer  Old/New  Duration   Town/City              County  \\\n",
       "0  25000       1995-08-18        0         1      OLDHAM  GREATER MANCHESTER   \n",
       "1  42500       1995-08-09        0         1       GRAYS            THURROCK   \n",
       "2  45000       1995-06-30        0         1  HIGHBRIDGE            SOMERSET   \n",
       "3  43150       1995-11-24        0         1     BEDFORD        BEDFORDSHIRE   \n",
       "4  18899       1995-06-23        0         1   WAKEFIELD      WEST YORKSHIRE   \n",
       "\n",
       "  PPDCategory Type  Year  Month  Property_D  Property_F  Property_S  \\\n",
       "0                A  1995      8       False       False       False   \n",
       "1                A  1995      8       False       False        True   \n",
       "2                A  1995      6       False       False       False   \n",
       "3                A  1995     11       False       False       False   \n",
       "4                A  1995      6       False       False        True   \n",
       "\n",
       "   Property_T  \n",
       "0        True  \n",
       "1       False  \n",
       "2        True  \n",
       "3        True  \n",
       "4       False  "
      ]
     },
     "execution_count": 2,
     "metadata": {},
     "output_type": "execute_result"
    }
   ],
   "source": [
    "import pandas as pd\n",
    "from scipy import stats\n",
    "import matplotlib.pyplot as plt\n",
    "import seaborn as sns\n",
    "\n",
    "# Load cleaned dataset\n",
    "df_chunk = pd.read_csv(\"../outputs/datasets/collection/HousePricesRecords_clean.csv\")\n",
    "df_chunk.head()"
   ]
  },
  {
   "cell_type": "markdown",
   "id": "dc1db546",
   "metadata": {},
   "source": [
    "## Hypothesis 1: Are new houses more expensive than old ones?\n",
    "\n",
    "- **Null hypothesis (H0):** There is no significant difference in price between new and old houses.\n",
    "- **Alternative hypothesis (H1):** New houses are significantly more expensive than old houses.\n",
    "\n",
    "We'll use an independent t-test to compare the two groups.\n"
   ]
  },
  {
   "cell_type": "code",
   "execution_count": 3,
   "id": "095c6a69",
   "metadata": {},
   "outputs": [
    {
     "name": "stdout",
     "output_type": "stream",
     "text": [
      "T-statistic: 2.38\n",
      "P-value: 0.0185\n",
      "Reject the null hypothesis – New houses are significantly more expensive.\n"
     ]
    }
   ],
   "source": [
    "# Split data into two groups\n",
    "new_prices = df_chunk[df_chunk[\"Old/New\"] == 1][\"Price\"]\n",
    "old_prices = df_chunk[df_chunk[\"Old/New\"] == 0][\"Price\"]\n",
    "\n",
    "# Perform independent t-test\n",
    "t_stat, p_val = stats.ttest_ind(new_prices, old_prices, equal_var=False)\n",
    "\n",
    "print(f\"T-statistic: {t_stat:.2f}\")\n",
    "print(f\"P-value: {p_val:.4f}\")\n",
    "\n",
    "if p_val < 0.05:\n",
    "    print(\"Reject the null hypothesis – New houses are significantly more expensive.\")\n",
    "else:\n",
    "    print(\"Fail to reject the null hypothesis – No significant difference in price.\")"
   ]
  },
  {
   "cell_type": "markdown",
   "id": "c8b94d15",
   "metadata": {},
   "source": [
    "## Hypothesis 2: Does house price vary by property type?\n",
    "\n",
    "- **Null hypothesis (H0):** All property types have the same average price.\n",
    "- **Alternative hypothesis (H1):** At least one property type has a different average price.\n",
    "\n",
    "We'll use a one-way ANOVA test.\n"
   ]
  },
  {
   "cell_type": "code",
   "execution_count": 4,
   "id": "9ccf69f3",
   "metadata": {},
   "outputs": [
    {
     "name": "stdout",
     "output_type": "stream",
     "text": [
      "Index(['Price', 'Date of Transfer', 'Old/New', 'Duration', 'Town/City',\n",
      "       'County', 'PPDCategory Type', 'Year', 'Month', 'Property_D',\n",
      "       'Property_F', 'Property_S', 'Property_T'],\n",
      "      dtype='object')\n"
     ]
    }
   ],
   "source": [
    "print(df_chunk.columns)"
   ]
  },
  {
   "cell_type": "code",
   "execution_count": 5,
   "id": "69929150",
   "metadata": {},
   "outputs": [
    {
     "name": "stdout",
     "output_type": "stream",
     "text": [
      "F-statistic: 32.08\n",
      "P-value: 0.0000\n",
      "Reject the null hypothesis – Property type affects price.\n"
     ]
    }
   ],
   "source": [
    "# Run ANOVA test\n",
    "property_types = ['Property_D', 'Property_F', 'Property_S', 'Property_T']\n",
    "grouped_prices = [df_chunk[df_chunk[col] == 1][\"Price\"] for col in property_types if col in df_chunk.columns]\n",
    "\n",
    "f_stat, p_val = stats.f_oneway(*grouped_prices)\n",
    "print(f\"F-statistic: {f_stat:.2f}\")\n",
    "print(f\"P-value: {p_val:.4f}\")\n",
    "\n",
    "if p_val < 0.05:\n",
    "    print(\"Reject the null hypothesis – Property type affects price.\")\n",
    "else:\n",
    "    print(\"Fail to reject the null hypothesis – No significant difference between property types.\")"
   ]
  }
 ],
 "metadata": {
  "kernelspec": {
   "display_name": "Python 3",
   "language": "python",
   "name": "python3"
  },
  "language_info": {
   "codemirror_mode": {
    "name": "ipython",
    "version": 3
   },
   "file_extension": ".py",
   "mimetype": "text/x-python",
   "name": "python",
   "nbconvert_exporter": "python",
   "pygments_lexer": "ipython3",
   "version": "3.12.1"
  }
 },
 "nbformat": 4,
 "nbformat_minor": 5
}
