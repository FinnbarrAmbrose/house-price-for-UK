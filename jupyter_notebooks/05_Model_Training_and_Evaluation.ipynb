{
 "cells": [
  {
   "cell_type": "markdown",
   "id": "a8c096a4",
   "metadata": {},
   "source": [
    "# 05 – Model Training & Evaluation  \n",
    "**CRISP-DM Phase 4: Modeling** (and Phase 5: Evaluation)  \n",
    "This notebook fits a regression model, evaluates its performance, and serialises artifacts for deployment.\n",
    "\n",
    "### Objectives\n",
    "* One-hot encode features to match model expectations.  \n",
    "* Split data 80 / 20 (with `random_state=42`).  \n",
    "* Fit a baseline `LinearRegression` model.  \n",
    "* Evaluate on test set: R², MAE, RMSE.  \n",
    "* Serialize artifacts for deployment:  \n",
    "  - `house_price_model.pkl`  \n",
    "  - `model_columns.pkl`  \n",
    "  - *(optional)* `model_metrics.json`  \n",
    "\n",
    "### Inputs\n",
    "* `outputs/datasets/collection/HousePricesRecords_clean.csv`  \n",
    "\n",
    "### Outputs\n",
    "* `outputs/models/house_price_model.pkl`  \n",
    "* `outputs/models/model_columns.pkl`  \n",
    "* *(optional)* `outputs/models/model_metrics.json`  \n",
    "\n",
    "### Additional Comments  \n",
    "#### Business Requirements Addressed  \n",
    "* **BR3**: Produces the trained model for the Sale Price Prediction tab.  \n",
    "\n",
    "#### Additional Notes  \n",
    "* Later: upgrade to a pipeline with XGBoost + hyperparameter tuning to boost performance. "
   ]
  },
  {
   "cell_type": "markdown",
   "id": "c1ed9ab2",
   "metadata": {},
   "source": [
    "### Import Required Libraries for Modeling & Evaluation  \n",
    "This cell brings in the modules we’ll need to load data and the trained model, split the dataset, fit our regression algorithm, and compute performance metrics:\n",
    "\n",
    "- **`os`** for file‐system operations (ensuring output folders exist, constructing paths).  \n",
    "- **`joblib`** to deserialize the previously saved `house_price_model.pkl` and `model_columns.pkl`.  \n",
    "- **`pandas as pd`** for tabular data manipulation (loading CSV, creating DataFrames).  \n",
    "- **`train_test_split`** and **`LinearRegression`** from **`sklearn`** for splitting data and fitting the baseline regression model.  \n",
    "- **`r2_score`** and **`mean_absolute_error`** for evaluating model performance.\n"
   ]
  },
  {
   "cell_type": "code",
   "execution_count": null,
   "id": "7f11d40b",
   "metadata": {},
   "outputs": [],
   "source": [
    "import os\n",
    "import joblib\n",
    "import pandas as pd\n",
    "import numpy as np\n",
    "from sklearn.model_selection import train_test_split\n",
    "from sklearn.linear_model import LinearRegression\n",
    "from sklearn.metrics import r2_score, mean_absolute_error"
   ]
  },
  {
   "cell_type": "markdown",
   "id": "fe90a114",
   "metadata": {},
   "source": [
    "### Load cleaned data\n",
    "\n",
    "y  → target variable (what we want to predict)\n",
    "\n",
    "X  → feature matrix (everything except target + unneeded columns)\n",
    "'Date of Transfer' is dropped because it's a timestamp string we\n",
    "already decomposed into Year / Month during cleaning."
   ]
  },
  {
   "cell_type": "code",
   "execution_count": 2,
   "id": "b9777681",
   "metadata": {},
   "outputs": [],
   "source": [
    "df = pd.read_csv(\"../outputs/datasets/collection/HousePricesRecords_clean.csv\")\n",
    "\n",
    "y = df[\"Price\"]\n",
    "X = df.drop(columns=[\"Price\", \"Date of Transfer\"],)"
   ]
  },
  {
   "cell_type": "markdown",
   "id": "ad345a63",
   "metadata": {},
   "source": [
    "#### One-Hot Encode All Categorical Features  \n",
    "This cell converts any remaining non-numeric (categorical) columns in `X` into binary indicator (0/1) columns using pandas’ `get_dummies`.  \n",
    "- `drop_first=True` removes the first category for each feature to avoid multicollinearity, which is especially important for linear models like `LinearRegression`.\n"
   ]
  },
  {
   "cell_type": "code",
   "execution_count": 3,
   "id": "a0e1c7cd",
   "metadata": {},
   "outputs": [],
   "source": [
    "X = pd.get_dummies(X, drop_first=True)"
   ]
  },
  {
   "cell_type": "markdown",
   "id": "b45fac08",
   "metadata": {},
   "source": [
    "#### Split Data into Training and Test Sets  \n",
    "This cell uses scikit-learn’s `train_test_split` to randomly split our feature matrix `X` and target vector `y` into:\n",
    "\n",
    "- **Training set** (`X_train`, `y_train`) comprising 80 % of the data, used to fit the model.  \n",
    "- **Test set** (`X_test`, `y_test`) comprising 20 % of the data, reserved for evaluating performance on unseen examples.  \n"
   ]
  },
  {
   "cell_type": "code",
   "execution_count": 4,
   "id": "83477932",
   "metadata": {},
   "outputs": [],
   "source": [
    "X_train, X_test, y_train, y_test = train_test_split(\n",
    "    X, y,\n",
    "    test_size=0.20,\n",
    "    random_state=42,  \n",
    "    shuffle=True\n",
    ")"
   ]
  },
  {
   "cell_type": "markdown",
   "id": "4aa6df5b",
   "metadata": {},
   "source": [
    "#### Check for Any Remaining Non-Numeric Features  \n",
    "This cell verifies that our feature matrix `X` contains only numeric columns after one-hot encoding. It uses `select_dtypes(exclude=[np.number])` to list any columns that still aren’t numeric. An empty list means you’re safe to proceed; if any names appear, you’ll need to encode or drop those fields before fitting the model.\n"
   ]
  },
  {
   "cell_type": "code",
   "execution_count": null,
   "id": "73efc165",
   "metadata": {},
   "outputs": [
    {
     "name": "stdout",
     "output_type": "stream",
     "text": [
      "Still non-numeric: ['Property_D', 'Property_F', 'Property_S', 'Property_T', 'Town/City_ADDLESTONE', 'Town/City_ALDERSHOT', 'Town/City_ALTON', 'Town/City_ALTRINCHAM', 'Town/City_AMERSHAM', 'Town/City_AMMANFORD', 'Town/City_ANDOVER', 'Town/City_ARUNDEL', 'Town/City_ASHFORD', 'Town/City_ASHTON-UNDER-LYNE', 'Town/City_ATHERSTONE', 'Town/City_ATTLEBOROUGH', 'Town/City_AYLESBURY', 'Town/City_AYLESFORD', 'Town/City_BAGSHOT', 'Town/City_BALDOCK', 'Town/City_BANBURY', 'Town/City_BARKING', 'Town/City_BARNET', 'Town/City_BARNSLEY', 'Town/City_BARNSTAPLE', 'Town/City_BARRY', 'Town/City_BASILDON', 'Town/City_BASINGSTOKE', 'Town/City_BATH', 'Town/City_BEDFORD', 'Town/City_BEDLINGTON', 'Town/City_BEDWORTH', 'Town/City_BELPER', 'Town/City_BENFLEET', 'Town/City_BERKHAMSTED', 'Town/City_BEVERLEY', 'Town/City_BEXHILL-ON-SEA', 'Town/City_BEXLEYHEATH', 'Town/City_BICESTER', 'Town/City_BIDEFORD', 'Town/City_BILLERICAY', 'Town/City_BILLINGHAM', 'Town/City_BILSTON', 'Town/City_BIRKENHEAD', 'Town/City_BIRMINGHAM', 'Town/City_BLACKBURN', 'Town/City_BLYTH', 'Town/City_BOGNOR REGIS', 'Town/City_BOLTON', 'Town/City_BOOTLE', 'Town/City_BORDON', 'Town/City_BOREHAMWOOD', 'Town/City_BOURNE', 'Town/City_BOURNEMOUTH', 'Town/City_BRACKLEY', 'Town/City_BRACKNELL', 'Town/City_BRADFORD', 'Town/City_BRAINTREE', 'Town/City_BRENTWOOD', 'Town/City_BRIDGEND', 'Town/City_BRIDGWATER', 'Town/City_BRIDLINGTON', 'Town/City_BRIERLEY HILL', 'Town/City_BRIGHTON', 'Town/City_BRISTOL', 'Town/City_BRIXHAM', 'Town/City_BROADSTAIRS', 'Town/City_BROMLEY', 'Town/City_BUCKINGHAM', 'Town/City_BUCKLEY', 'Town/City_BUDLEIGH SALTERTON', 'Town/City_BUILTH WELLS', 'Town/City_BURGESS HILL', 'Town/City_BURNHAM-ON-SEA', 'Town/City_BURNLEY', 'Town/City_BURRY PORT', 'Town/City_BURTON-ON-TRENT', 'Town/City_BURY', 'Town/City_BURY ST. EDMUNDS', 'Town/City_BUSHEY', 'Town/City_CAERPHILLY', 'Town/City_CALDICOT', 'Town/City_CAMBERLEY', 'Town/City_CAMBRIDGE', 'Town/City_CANNOCK', 'Town/City_CARNFORTH', 'Town/City_CARSHALTON', 'Town/City_CARTERTON', 'Town/City_CASTLEFORD', 'Town/City_CHALFONT ST. GILES', 'Town/City_CHARD', 'Town/City_CHEADLE', 'Town/City_CHELMSFORD', 'Town/City_CHELTENHAM', 'Town/City_CHEPSTOW', 'Town/City_CHESSINGTON', 'Town/City_CHESTER', 'Town/City_CHESTER LE STREET', 'Town/City_CHESTERFIELD', 'Town/City_CHICHESTER', 'Town/City_CHIGWELL', 'Town/City_CHIPPING CAMPDEN', 'Town/City_CHORLEY', 'Town/City_CLACTON-ON-SEA', 'Town/City_CLEATOR MOOR', 'Town/City_CLEETHORPES', 'Town/City_CLEVEDON', 'Town/City_COLCHESTER', 'Town/City_COLWYN BAY', 'Town/City_CONGLETON', 'Town/City_CONISTON', 'Town/City_COTTINGHAM', 'Town/City_COVENTRY', 'Town/City_CRAWLEY', 'Town/City_CRICKHOWELL', 'Town/City_CROMER', 'Town/City_CROYDON', 'Town/City_CULLOMPTON', 'Town/City_CWMBRAN', 'Town/City_DARLINGTON', 'Town/City_DARTFORD', 'Town/City_DARTMOUTH', 'Town/City_DARWEN', 'Town/City_DAVENTRY', 'Town/City_DERBY', 'Town/City_DEWSBURY', 'Town/City_DIDCOT', 'Town/City_DONCASTER', 'Town/City_DORKING', 'Town/City_DOVER', 'Town/City_DRONFIELD', 'Town/City_DUDLEY', 'Town/City_DUNSTABLE', 'Town/City_DURHAM', 'Town/City_EASTBOURNE', 'Town/City_EBBW VALE', 'Town/City_EDGWARE', 'Town/City_EGREMONT', 'Town/City_ENFIELD', 'Town/City_EPSOM', 'Town/City_ERITH', 'Town/City_ESHER', 'Town/City_EVESHAM', 'Town/City_EXETER', 'Town/City_FALMOUTH', 'Town/City_FAREHAM', 'Town/City_FARINGDON', 'Town/City_FARNBOROUGH', 'Town/City_FELIXSTOWE', 'Town/City_FERNDALE', 'Town/City_FLEET', 'Town/City_FLEETWOOD', 'Town/City_FOLKESTONE', 'Town/City_FRESHWATER', 'Town/City_GILLINGHAM', 'Town/City_GLOSSOP', 'Town/City_GLOUCESTER', 'Town/City_GODALMING', 'Town/City_GOOLE', 'Town/City_GOSPORT', 'Town/City_GRANTHAM', 'Town/City_GRAVESEND', 'Town/City_GRAYS', 'Town/City_GREAT MISSENDEN', 'Town/City_GREAT YARMOUTH', 'Town/City_GREENFORD', 'Town/City_GRIMSBY', 'Town/City_GUILDFORD', 'Town/City_GUISBOROUGH', 'Town/City_HAILSHAM', 'Town/City_HALESOWEN', 'Town/City_HALIFAX', 'Town/City_HARLOW', 'Town/City_HARPENDEN', 'Town/City_HARROGATE', 'Town/City_HARROW', 'Town/City_HARTLEPOOL', 'Town/City_HARWICH', 'Town/City_HASSOCKS', 'Town/City_HASTINGS', 'Town/City_HAVANT', 'Town/City_HAVERFORDWEST', 'Town/City_HAYLE', 'Town/City_HAYWARDS HEATH', 'Town/City_HELSTON', 'Town/City_HEMEL HEMPSTEAD', 'Town/City_HENFIELD', 'Town/City_HENLEY-ON-THAMES', 'Town/City_HEREFORD', 'Town/City_HERTFORD', 'Town/City_HEYWOOD', 'Town/City_HIGH PEAK', 'Town/City_HIGH WYCOMBE', 'Town/City_HIGHBRIDGE', 'Town/City_HINCKLEY', 'Town/City_HITCHIN', 'Town/City_HOLMFIRTH', 'Town/City_HOLMROOK', 'Town/City_HOLYWELL', 'Town/City_HORNCHURCH', 'Town/City_HORSHAM', 'Town/City_HOUNSLOW', 'Town/City_HOVE', 'Town/City_HUDDERSFIELD', 'Town/City_HULL', 'Town/City_HUNTINGDON', 'Town/City_HYTHE', 'Town/City_ILFORD', 'Town/City_ILKESTON', 'Town/City_ILKLEY', 'Town/City_IPSWICH', 'Town/City_KEIGHLEY', 'Town/City_KENILWORTH', 'Town/City_KETTERING', 'Town/City_KIDDERMINSTER', \"Town/City_KING'S LYNN\", 'Town/City_KINGSTON UPON THAMES', 'Town/City_LANCING', 'Town/City_LEAMINGTON SPA', 'Town/City_LEEDS', 'Town/City_LEICESTER', 'Town/City_LEIGH', 'Town/City_LEIGH-ON-SEA', 'Town/City_LEIGHTON BUZZARD', 'Town/City_LETCHWORTH GARDEN CITY', 'Town/City_LEYLAND', 'Town/City_LICHFIELD', 'Town/City_LINCOLN', 'Town/City_LITTLEHAMPTON', 'Town/City_LIVERPOOL', 'Town/City_LLANDUDNO JUNCTION', 'Town/City_LLANFYRNACH', 'Town/City_LONDON', 'Town/City_LONGFIELD', 'Town/City_LOOE', 'Town/City_LOUGHBOROUGH', 'Town/City_LOUGHTON', 'Town/City_LOWESTOFT', 'Town/City_LUTTERWORTH', 'Town/City_LYDNEY', 'Town/City_LYME REGIS', 'Town/City_LYTHAM ST. ANNES', 'Town/City_MACCLESFIELD', 'Town/City_MAESTEG', 'Town/City_MAIDENHEAD', 'Town/City_MAIDSTONE', 'Town/City_MALDON', 'Town/City_MALMESBURY', 'Town/City_MALTON', 'Town/City_MALVERN', 'Town/City_MANCHESTER', 'Town/City_MANNINGTREE', 'Town/City_MANSFIELD', 'Town/City_MARCH', 'Town/City_MARKFIELD', 'Town/City_MELTON CONSTABLE', 'Town/City_MELTON MOWBRAY', 'Town/City_MIDDLESBROUGH', 'Town/City_MIDDLEWICH', 'Town/City_MIDHURST', 'Town/City_MILTON KEYNES', 'Town/City_MINEHEAD', 'Town/City_MITCHAM', 'Town/City_MORDEN', 'Town/City_MORECAMBE', 'Town/City_MORPETH', 'Town/City_MOUNTAIN ASH', 'Town/City_NARBERTH', 'Town/City_NEW MALDEN', 'Town/City_NEWARK', 'Town/City_NEWBURY', 'Town/City_NEWCASTLE', 'Town/City_NEWCASTLE UPON TYNE', 'Town/City_NEWENT', 'Town/City_NEWMARKET', 'Town/City_NEWPORT', 'Town/City_NEWPORT PAGNELL', 'Town/City_NEWTON ABBOT', 'Town/City_NEWTON-LE-WILLOWS', 'Town/City_NORMANTON', 'Town/City_NORTH SHIELDS', 'Town/City_NORTH WALSHAM', 'Town/City_NORTHAMPTON', 'Town/City_NORTHWICH', 'Town/City_NORWICH', 'Town/City_NOTTINGHAM', 'Town/City_NUNEATON', 'Town/City_OAKHAM', 'Town/City_OLDBURY', 'Town/City_OLDHAM', 'Town/City_ORPINGTON', 'Town/City_OSSETT', 'Town/City_OSWESTRY', 'Town/City_OXFORD', 'Town/City_OXTED', 'Town/City_PAIGNTON', 'Town/City_PEACEHAVEN', 'Town/City_PENZANCE', 'Town/City_PETERBOROUGH', 'Town/City_PETERLEE', 'Town/City_PETERSFIELD', 'Town/City_PLYMOUTH', 'Town/City_PONTYPOOL', 'Town/City_PONTYPRIDD', 'Town/City_POOLE', 'Town/City_PORTHCAWL', 'Town/City_PORTSMOUTH', 'Town/City_POTTERS BAR', 'Town/City_PRENTON', 'Town/City_PRESTON', 'Town/City_PRUDHOE', 'Town/City_PUDSEY', 'Town/City_RAYLEIGH', 'Town/City_READING', 'Town/City_REDCAR', 'Town/City_RHYL', 'Town/City_RICHMOND', 'Town/City_RICKMANSWORTH', 'Town/City_RIPLEY', 'Town/City_RIPON', 'Town/City_ROCHDALE', 'Town/City_ROCHESTER', 'Town/City_ROCHFORD', 'Town/City_ROMFORD', 'Town/City_ROMNEY MARSH', 'Town/City_ROMSEY', 'Town/City_ROSS-ON-WYE', 'Town/City_ROSSENDALE', 'Town/City_ROTHERHAM', 'Town/City_ROWLANDS GILL', 'Town/City_RUSHDEN', 'Town/City_SALE', 'Town/City_SALFORD', 'Town/City_SALISBURY', 'Town/City_SALTBURN-BY-THE-SEA', 'Town/City_SANDBACH', 'Town/City_SANDOWN', 'Town/City_SANDWICH', 'Town/City_SCARBOROUGH', 'Town/City_SCUNTHORPE', 'Town/City_SEATON', 'Town/City_SELBY', 'Town/City_SEVENOAKS', 'Town/City_SHEFFIELD', 'Town/City_SHIFNAL', 'Town/City_SHIPLEY', 'Town/City_SHOREHAM-BY-SEA', 'Town/City_SHREWSBURY', 'Town/City_SIDCUP', 'Town/City_SLEAFORD', 'Town/City_SLOUGH', 'Town/City_SMETHWICK', 'Town/City_SOLIHULL', 'Town/City_SOUTH CROYDON', 'Town/City_SOUTH OCKENDON', 'Town/City_SOUTH SHIELDS', 'Town/City_SOUTHAMPTON', 'Town/City_SOUTHEND-ON-SEA', 'Town/City_SOUTHSEA', 'Town/City_SOWERBY BRIDGE', 'Town/City_SPALDING', 'Town/City_ST. ALBANS', 'Town/City_ST. AUSTELL', 'Town/City_ST. HELENS', 'Town/City_ST. IVES', 'Town/City_ST. NEOTS', 'Town/City_STEVENAGE', 'Town/City_STEYNING', 'Town/City_STOCKPORT', 'Town/City_STOCKSFIELD', 'Town/City_STOCKTON-ON-TEES', 'Town/City_STOKE-ON-TRENT', 'Town/City_STONEHOUSE', 'Town/City_STOURBRIDGE', 'Town/City_STOWMARKET', 'Town/City_STRATFORD-UPON-AVON', 'Town/City_SUDBURY', 'Town/City_SUNDERLAND', 'Town/City_SURBITON', 'Town/City_SUTTON', 'Town/City_SUTTON COLDFIELD', 'Town/City_SWANLEY', 'Town/City_SWANSEA', 'Town/City_SWINDON', 'Town/City_TADLEY', 'Town/City_TAMWORTH', 'Town/City_TARPORLEY', 'Town/City_TEDDINGTON', 'Town/City_TELFORD', 'Town/City_THATCHAM', 'Town/City_THETFORD', 'Town/City_THORNTON-CLEVELEYS', 'Town/City_TIVERTON', 'Town/City_TONYPANDY', 'Town/City_TORPOINT', 'Town/City_TORQUAY', 'Town/City_TREDEGAR', 'Town/City_TROWBRIDGE', 'Town/City_TUNBRIDGE WELLS', 'Town/City_TWICKENHAM', 'Town/City_ULVERSTON', 'Town/City_USK', 'Town/City_UTTOXETER', 'Town/City_UXBRIDGE', 'Town/City_WADEBRIDGE', 'Town/City_WADHURST', 'Town/City_WAKEFIELD', 'Town/City_WALLASEY', 'Town/City_WALLSEND', 'Town/City_WALSALL', 'Town/City_WALTON ON THE NAZE', 'Town/City_WALTON-ON-THAMES', 'Town/City_WANTAGE', 'Town/City_WARE', 'Town/City_WARRINGTON', 'Town/City_WASHINGTON', 'Town/City_WATERLOOVILLE', 'Town/City_WATFORD', 'Town/City_WEDNESBURY', 'Town/City_WELWYN GARDEN CITY', 'Town/City_WEMBLEY', 'Town/City_WEST MOLESEY', 'Town/City_WESTON-SUPER-MARE', 'Town/City_WETHERBY', 'Town/City_WEYBRIDGE', 'Town/City_WEYMOUTH', 'Town/City_WHITLEY BAY', 'Town/City_WHITSTABLE', 'Town/City_WIGAN', 'Town/City_WILMSLOW', 'Town/City_WIMBORNE', 'Town/City_WINCHESTER', 'Town/City_WINDLESHAM', 'Town/City_WINDSOR', 'Town/City_WIRRAL', 'Town/City_WISBECH', 'Town/City_WITHAM', 'Town/City_WITNEY', 'Town/City_WOKING', 'Town/City_WOKINGHAM', 'Town/City_WOLVERHAMPTON', 'Town/City_WOODBRIDGE', 'Town/City_WOODFORD GREEN', 'Town/City_WORCESTER', 'Town/City_WORCESTER PARK', 'Town/City_WORKSOP', 'Town/City_WORTHING', 'Town/City_WREXHAM', 'Town/City_Y FELINHELI', 'Town/City_YARM', 'Town/City_YEOVIL', 'Town/City_YORK', 'County_BEDFORDSHIRE', 'County_BERKSHIRE', 'County_BLAENAU GWENT', 'County_BOURNEMOUTH', 'County_BRACKNELL FOREST', 'County_BUCKINGHAMSHIRE', 'County_CAMBRIDGESHIRE', 'County_CHESHIRE', 'County_CLEVELAND', 'County_CLWYD', 'County_CONWY', 'County_CORNWALL', 'County_CUMBRIA', 'County_DARLINGTON', 'County_DERBYSHIRE', 'County_DEVON', 'County_DORSET', 'County_DURHAM', 'County_DYFED', 'County_EAST SUSSEX', 'County_ESSEX', 'County_GLOUCESTERSHIRE', 'County_GREATER LONDON', 'County_GREATER MANCHESTER', 'County_GWENT', 'County_GWYNEDD', 'County_HAMPSHIRE', 'County_HARTLEPOOL', 'County_HEREFORD AND WORCESTER', 'County_HERTFORDSHIRE', 'County_HUMBERSIDE', 'County_ISLE OF WIGHT', 'County_KENT', 'County_LANCASHIRE', 'County_LEICESTER', 'County_LEICESTERSHIRE', 'County_LINCOLNSHIRE', 'County_MERSEYSIDE', 'County_MID GLAMORGAN', 'County_MIDDLESBROUGH', 'County_MILTON KEYNES', 'County_NEWPORT', 'County_NORFOLK', 'County_NORTH YORKSHIRE', 'County_NORTHAMPTONSHIRE', 'County_NORTHUMBERLAND', 'County_NOTTINGHAMSHIRE', 'County_OXFORDSHIRE', 'County_PEMBROKESHIRE', 'County_POOLE', 'County_PORTSMOUTH', 'County_POWYS', 'County_READING', 'County_RUTLAND', 'County_SHROPSHIRE', 'County_SLOUGH', 'County_SOMERSET', 'County_SOUTH GLAMORGAN', 'County_SOUTH GLOUCESTERSHIRE', 'County_SOUTH YORKSHIRE', 'County_SOUTHAMPTON', 'County_SOUTHEND-ON-SEA', 'County_STAFFORDSHIRE', 'County_STOCKTON-ON-TEES', 'County_STOKE-ON-TRENT', 'County_SUFFOLK', 'County_SURREY', 'County_SWANSEA', 'County_THAMESDOWN', 'County_THURROCK', 'County_TORBAY', 'County_TORFAEN', 'County_TYNE AND WEAR', 'County_WARRINGTON', 'County_WARWICKSHIRE', 'County_WEST GLAMORGAN', 'County_WEST MIDLANDS', 'County_WEST SUSSEX', 'County_WEST YORKSHIRE', 'County_WILTSHIRE', 'County_WINDSOR AND MAIDENHEAD', 'County_WOKINGHAM', 'County_WORCESTERSHIRE', 'County_YORK']\n"
     ]
    }
   ],
   "source": [
    "non_numeric = X.select_dtypes(exclude=[np.number]).columns.tolist()\n",
    "print(\"Still non-numeric:\", non_numeric)\n"
   ]
  },
  {
   "cell_type": "markdown",
   "id": "12da25fb",
   "metadata": {},
   "source": [
    "#### Initialize & Train Linear Regression Model  \n",
    "This cell creates a `LinearRegression` estimator and fits it to the training data, allowing the algorithm to learn the best‐fit coefficients that minimise the sum of squared errors between predicted and actual sale prices.\n"
   ]
  },
  {
   "cell_type": "code",
   "execution_count": 6,
   "id": "da4684c0",
   "metadata": {},
   "outputs": [
    {
     "data": {
      "text/html": [
       "<style>#sk-container-id-1 {color: black;}#sk-container-id-1 pre{padding: 0;}#sk-container-id-1 div.sk-toggleable {background-color: white;}#sk-container-id-1 label.sk-toggleable__label {cursor: pointer;display: block;width: 100%;margin-bottom: 0;padding: 0.3em;box-sizing: border-box;text-align: center;}#sk-container-id-1 label.sk-toggleable__label-arrow:before {content: \"▸\";float: left;margin-right: 0.25em;color: #696969;}#sk-container-id-1 label.sk-toggleable__label-arrow:hover:before {color: black;}#sk-container-id-1 div.sk-estimator:hover label.sk-toggleable__label-arrow:before {color: black;}#sk-container-id-1 div.sk-toggleable__content {max-height: 0;max-width: 0;overflow: hidden;text-align: left;background-color: #f0f8ff;}#sk-container-id-1 div.sk-toggleable__content pre {margin: 0.2em;color: black;border-radius: 0.25em;background-color: #f0f8ff;}#sk-container-id-1 input.sk-toggleable__control:checked~div.sk-toggleable__content {max-height: 200px;max-width: 100%;overflow: auto;}#sk-container-id-1 input.sk-toggleable__control:checked~label.sk-toggleable__label-arrow:before {content: \"▾\";}#sk-container-id-1 div.sk-estimator input.sk-toggleable__control:checked~label.sk-toggleable__label {background-color: #d4ebff;}#sk-container-id-1 div.sk-label input.sk-toggleable__control:checked~label.sk-toggleable__label {background-color: #d4ebff;}#sk-container-id-1 input.sk-hidden--visually {border: 0;clip: rect(1px 1px 1px 1px);clip: rect(1px, 1px, 1px, 1px);height: 1px;margin: -1px;overflow: hidden;padding: 0;position: absolute;width: 1px;}#sk-container-id-1 div.sk-estimator {font-family: monospace;background-color: #f0f8ff;border: 1px dotted black;border-radius: 0.25em;box-sizing: border-box;margin-bottom: 0.5em;}#sk-container-id-1 div.sk-estimator:hover {background-color: #d4ebff;}#sk-container-id-1 div.sk-parallel-item::after {content: \"\";width: 100%;border-bottom: 1px solid gray;flex-grow: 1;}#sk-container-id-1 div.sk-label:hover label.sk-toggleable__label {background-color: #d4ebff;}#sk-container-id-1 div.sk-serial::before {content: \"\";position: absolute;border-left: 1px solid gray;box-sizing: border-box;top: 0;bottom: 0;left: 50%;z-index: 0;}#sk-container-id-1 div.sk-serial {display: flex;flex-direction: column;align-items: center;background-color: white;padding-right: 0.2em;padding-left: 0.2em;position: relative;}#sk-container-id-1 div.sk-item {position: relative;z-index: 1;}#sk-container-id-1 div.sk-parallel {display: flex;align-items: stretch;justify-content: center;background-color: white;position: relative;}#sk-container-id-1 div.sk-item::before, #sk-container-id-1 div.sk-parallel-item::before {content: \"\";position: absolute;border-left: 1px solid gray;box-sizing: border-box;top: 0;bottom: 0;left: 50%;z-index: -1;}#sk-container-id-1 div.sk-parallel-item {display: flex;flex-direction: column;z-index: 1;position: relative;background-color: white;}#sk-container-id-1 div.sk-parallel-item:first-child::after {align-self: flex-end;width: 50%;}#sk-container-id-1 div.sk-parallel-item:last-child::after {align-self: flex-start;width: 50%;}#sk-container-id-1 div.sk-parallel-item:only-child::after {width: 0;}#sk-container-id-1 div.sk-dashed-wrapped {border: 1px dashed gray;margin: 0 0.4em 0.5em 0.4em;box-sizing: border-box;padding-bottom: 0.4em;background-color: white;}#sk-container-id-1 div.sk-label label {font-family: monospace;font-weight: bold;display: inline-block;line-height: 1.2em;}#sk-container-id-1 div.sk-label-container {text-align: center;}#sk-container-id-1 div.sk-container {/* jupyter's `normalize.less` sets `[hidden] { display: none; }` but bootstrap.min.css set `[hidden] { display: none !important; }` so we also need the `!important` here to be able to override the default hidden behavior on the sphinx rendered scikit-learn.org. See: https://github.com/scikit-learn/scikit-learn/issues/21755 */display: inline-block !important;position: relative;}#sk-container-id-1 div.sk-text-repr-fallback {display: none;}</style><div id=\"sk-container-id-1\" class=\"sk-top-container\"><div class=\"sk-text-repr-fallback\"><pre>LinearRegression()</pre><b>In a Jupyter environment, please rerun this cell to show the HTML representation or trust the notebook. <br />On GitHub, the HTML representation is unable to render, please try loading this page with nbviewer.org.</b></div><div class=\"sk-container\" hidden><div class=\"sk-item\"><div class=\"sk-estimator sk-toggleable\"><input class=\"sk-toggleable__control sk-hidden--visually\" id=\"sk-estimator-id-1\" type=\"checkbox\" checked><label for=\"sk-estimator-id-1\" class=\"sk-toggleable__label sk-toggleable__label-arrow\">LinearRegression</label><div class=\"sk-toggleable__content\"><pre>LinearRegression()</pre></div></div></div></div></div>"
      ],
      "text/plain": [
       "LinearRegression()"
      ]
     },
     "execution_count": 6,
     "metadata": {},
     "output_type": "execute_result"
    }
   ],
   "source": [
    "model = LinearRegression()\n",
    "model.fit(X_train, y_train)"
   ]
  },
  {
   "cell_type": "markdown",
   "id": "7afe5bd2",
   "metadata": {},
   "source": [
    "#### Save Trained Model & Feature Columns  \n",
    "This cell prepares the deployment artifacts by:\n",
    "\n",
    "1. Creating the `outputs/models/` directory if it doesn’t already exist.  \n",
    "2. Serializing the trained `LinearRegression` model to `house_price_model.pkl` using `joblib.dump`.  \n",
    "3. Saving the list of feature column names (in the exact order used during training) to `model_columns.pkl`.  \n",
    "4. Printing a confirmation message once both files are written.\n",
    "\n",
    "These files are then picked up by the Streamlit app for making live predictions.\n"
   ]
  },
  {
   "cell_type": "code",
   "execution_count": 7,
   "id": "330ae066",
   "metadata": {},
   "outputs": [
    {
     "name": "stdout",
     "output_type": "stream",
     "text": [
      "✅  Model and column list saved to ../outputs/models/\n"
     ]
    }
   ],
   "source": [
    "os.makedirs(\"../outputs/models\", exist_ok=True)\n",
    "\n",
    "joblib.dump(model,\n",
    "            \"../outputs/models/house_price_model.pkl\")          \n",
    "joblib.dump(X_train.columns.tolist(),\n",
    "            \"../outputs/models/model_columns.pkl\")              \n",
    "\n",
    "print(\"✅  Model and column list saved to ../outputs/models/\")"
   ]
  }
 ],
 "metadata": {
  "kernelspec": {
   "display_name": "Python 3",
   "language": "python",
   "name": "python3"
  },
  "language_info": {
   "codemirror_mode": {
    "name": "ipython",
    "version": 3
   },
   "file_extension": ".py",
   "mimetype": "text/x-python",
   "name": "python",
   "nbconvert_exporter": "python",
   "pygments_lexer": "ipython3",
   "version": "3.12.1"
  }
 },
 "nbformat": 4,
 "nbformat_minor": 5
}
