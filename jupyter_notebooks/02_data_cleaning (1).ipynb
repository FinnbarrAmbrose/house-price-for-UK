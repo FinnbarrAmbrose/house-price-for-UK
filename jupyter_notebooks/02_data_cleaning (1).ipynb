{
 "cells": [
  {
   "cell_type": "markdown",
   "id": "549a5fed",
   "metadata": {},
   "source": [
    "# 02 - Data Cleaning\n",
    "\n",
    "In this notebook, we load the raw housing price dataset and clean it by:\n",
    "- Removing duplicates\n",
    "- Handling missing values\n",
    "- Formatting dates\n",
    "- Converting categorical variables\n",
    "- Saving the cleaned dataset for modeling"
   ]
  },
  {
   "cell_type": "markdown",
   "id": "19ea6e6a",
   "metadata": {},
   "source": [
    "---"
   ]
  },
  {
   "cell_type": "markdown",
   "id": "022fd80d",
   "metadata": {},
   "source": [
    "Import the libraries used for data processing:\n",
    "- pandas for handling and cleaning data\n",
    "- os for interacting with files and directories"
   ]
  },
  {
   "cell_type": "code",
   "execution_count": 1,
   "id": "de9d977c",
   "metadata": {},
   "outputs": [],
   "source": [
    "import pandas as pd\n",
    "import os"
   ]
  },
  {
   "cell_type": "markdown",
   "id": "2856c25b",
   "metadata": {},
   "source": [
    "the file is too large to load into memory directly so i only need 1000"
   ]
  },
  {
   "cell_type": "code",
   "execution_count": 2,
   "id": "b9070930",
   "metadata": {},
   "outputs": [
    {
     "data": {
      "text/html": [
       "<div>\n",
       "<style scoped>\n",
       "    .dataframe tbody tr th:only-of-type {\n",
       "        vertical-align: middle;\n",
       "    }\n",
       "\n",
       "    .dataframe tbody tr th {\n",
       "        vertical-align: top;\n",
       "    }\n",
       "\n",
       "    .dataframe thead th {\n",
       "        text-align: right;\n",
       "    }\n",
       "</style>\n",
       "<table border=\"1\" class=\"dataframe\">\n",
       "  <thead>\n",
       "    <tr style=\"text-align: right;\">\n",
       "      <th></th>\n",
       "      <th>Transaction unique identifier</th>\n",
       "      <th>Price</th>\n",
       "      <th>Date of Transfer</th>\n",
       "      <th>Property Type</th>\n",
       "      <th>Old/New</th>\n",
       "      <th>Duration</th>\n",
       "      <th>Town/City</th>\n",
       "      <th>District</th>\n",
       "      <th>County</th>\n",
       "      <th>PPDCategory Type</th>\n",
       "      <th>Record Status - monthly file only</th>\n",
       "    </tr>\n",
       "  </thead>\n",
       "  <tbody>\n",
       "    <tr>\n",
       "      <th>0</th>\n",
       "      <td>{81B82214-7FBC-4129-9F6B-4956B4A663AD}</td>\n",
       "      <td>25000</td>\n",
       "      <td>1995-08-18 00:00</td>\n",
       "      <td>T</td>\n",
       "      <td>N</td>\n",
       "      <td>F</td>\n",
       "      <td>OLDHAM</td>\n",
       "      <td>OLDHAM</td>\n",
       "      <td>GREATER MANCHESTER</td>\n",
       "      <td>A</td>\n",
       "      <td>A</td>\n",
       "    </tr>\n",
       "    <tr>\n",
       "      <th>1</th>\n",
       "      <td>{8046EC72-1466-42D6-A753-4956BF7CD8A2}</td>\n",
       "      <td>42500</td>\n",
       "      <td>1995-08-09 00:00</td>\n",
       "      <td>S</td>\n",
       "      <td>N</td>\n",
       "      <td>F</td>\n",
       "      <td>GRAYS</td>\n",
       "      <td>THURROCK</td>\n",
       "      <td>THURROCK</td>\n",
       "      <td>A</td>\n",
       "      <td>A</td>\n",
       "    </tr>\n",
       "    <tr>\n",
       "      <th>2</th>\n",
       "      <td>{278D581A-5BF3-4FCE-AF62-4956D87691E6}</td>\n",
       "      <td>45000</td>\n",
       "      <td>1995-06-30 00:00</td>\n",
       "      <td>T</td>\n",
       "      <td>N</td>\n",
       "      <td>F</td>\n",
       "      <td>HIGHBRIDGE</td>\n",
       "      <td>SEDGEMOOR</td>\n",
       "      <td>SOMERSET</td>\n",
       "      <td>A</td>\n",
       "      <td>A</td>\n",
       "    </tr>\n",
       "    <tr>\n",
       "      <th>3</th>\n",
       "      <td>{1D861C06-A416-4865-973C-4956DB12CD12}</td>\n",
       "      <td>43150</td>\n",
       "      <td>1995-11-24 00:00</td>\n",
       "      <td>T</td>\n",
       "      <td>N</td>\n",
       "      <td>F</td>\n",
       "      <td>BEDFORD</td>\n",
       "      <td>NORTH BEDFORDSHIRE</td>\n",
       "      <td>BEDFORDSHIRE</td>\n",
       "      <td>A</td>\n",
       "      <td>A</td>\n",
       "    </tr>\n",
       "    <tr>\n",
       "      <th>4</th>\n",
       "      <td>{DD8645FD-A815-43A6-A7BA-4956E58F1874}</td>\n",
       "      <td>18899</td>\n",
       "      <td>1995-06-23 00:00</td>\n",
       "      <td>S</td>\n",
       "      <td>N</td>\n",
       "      <td>F</td>\n",
       "      <td>WAKEFIELD</td>\n",
       "      <td>LEEDS</td>\n",
       "      <td>WEST YORKSHIRE</td>\n",
       "      <td>A</td>\n",
       "      <td>A</td>\n",
       "    </tr>\n",
       "  </tbody>\n",
       "</table>\n",
       "</div>"
      ],
      "text/plain": [
       "            Transaction unique identifier  Price  Date of Transfer  \\\n",
       "0  {81B82214-7FBC-4129-9F6B-4956B4A663AD}  25000  1995-08-18 00:00   \n",
       "1  {8046EC72-1466-42D6-A753-4956BF7CD8A2}  42500  1995-08-09 00:00   \n",
       "2  {278D581A-5BF3-4FCE-AF62-4956D87691E6}  45000  1995-06-30 00:00   \n",
       "3  {1D861C06-A416-4865-973C-4956DB12CD12}  43150  1995-11-24 00:00   \n",
       "4  {DD8645FD-A815-43A6-A7BA-4956E58F1874}  18899  1995-06-23 00:00   \n",
       "\n",
       "  Property Type Old/New Duration   Town/City            District  \\\n",
       "0             T       N        F      OLDHAM              OLDHAM   \n",
       "1             S       N        F       GRAYS            THURROCK   \n",
       "2             T       N        F  HIGHBRIDGE           SEDGEMOOR   \n",
       "3             T       N        F     BEDFORD  NORTH BEDFORDSHIRE   \n",
       "4             S       N        F   WAKEFIELD               LEEDS   \n",
       "\n",
       "               County PPDCategory Type Record Status - monthly file only  \n",
       "0  GREATER MANCHESTER                A                                 A  \n",
       "1            THURROCK                A                                 A  \n",
       "2            SOMERSET                A                                 A  \n",
       "3        BEDFORDSHIRE                A                                 A  \n",
       "4      WEST YORKSHIRE                A                                 A  "
      ]
     },
     "execution_count": 2,
     "metadata": {},
     "output_type": "execute_result"
    }
   ],
   "source": [
    "input_path = '../inputs/datasets/raw/price_paid_records.csv'\n",
    "df_chunk = pd.read_csv(input_path, nrows=1000)\n",
    "df_chunk.head()"
   ]
  },
  {
   "cell_type": "markdown",
   "id": "7dc6eb04",
   "metadata": {},
   "source": [
    "Load the raw dataset from the `inputs/datasets/raw` folder into a DataFrame, and check its the number of rows and columns with shape."
   ]
  },
  {
   "cell_type": "code",
   "execution_count": 3,
   "id": "6cf61b8e",
   "metadata": {},
   "outputs": [
    {
     "data": {
      "text/plain": [
       "(1000, 11)"
      ]
     },
     "execution_count": 3,
     "metadata": {},
     "output_type": "execute_result"
    }
   ],
   "source": [
    "# Load raw dataset\n",
    "input_path = '../inputs/datasets/raw/price_paid_records.csv'\n",
    "df_chunk = pd.read_csv(input_path, nrows=1000)\n",
    "df_chunk.shape"
   ]
  },
  {
   "cell_type": "markdown",
   "id": "a2c55ec4",
   "metadata": {},
   "source": [
    "Preview the first 5 rows to see if it is working "
   ]
  },
  {
   "cell_type": "code",
   "execution_count": 4,
   "id": "9c6e3a2b",
   "metadata": {},
   "outputs": [
    {
     "data": {
      "text/html": [
       "<div>\n",
       "<style scoped>\n",
       "    .dataframe tbody tr th:only-of-type {\n",
       "        vertical-align: middle;\n",
       "    }\n",
       "\n",
       "    .dataframe tbody tr th {\n",
       "        vertical-align: top;\n",
       "    }\n",
       "\n",
       "    .dataframe thead th {\n",
       "        text-align: right;\n",
       "    }\n",
       "</style>\n",
       "<table border=\"1\" class=\"dataframe\">\n",
       "  <thead>\n",
       "    <tr style=\"text-align: right;\">\n",
       "      <th></th>\n",
       "      <th>Transaction unique identifier</th>\n",
       "      <th>Price</th>\n",
       "      <th>Date of Transfer</th>\n",
       "      <th>Property Type</th>\n",
       "      <th>Old/New</th>\n",
       "      <th>Duration</th>\n",
       "      <th>Town/City</th>\n",
       "      <th>District</th>\n",
       "      <th>County</th>\n",
       "      <th>PPDCategory Type</th>\n",
       "      <th>Record Status - monthly file only</th>\n",
       "    </tr>\n",
       "  </thead>\n",
       "  <tbody>\n",
       "    <tr>\n",
       "      <th>0</th>\n",
       "      <td>{81B82214-7FBC-4129-9F6B-4956B4A663AD}</td>\n",
       "      <td>25000</td>\n",
       "      <td>1995-08-18 00:00</td>\n",
       "      <td>T</td>\n",
       "      <td>N</td>\n",
       "      <td>F</td>\n",
       "      <td>OLDHAM</td>\n",
       "      <td>OLDHAM</td>\n",
       "      <td>GREATER MANCHESTER</td>\n",
       "      <td>A</td>\n",
       "      <td>A</td>\n",
       "    </tr>\n",
       "    <tr>\n",
       "      <th>1</th>\n",
       "      <td>{8046EC72-1466-42D6-A753-4956BF7CD8A2}</td>\n",
       "      <td>42500</td>\n",
       "      <td>1995-08-09 00:00</td>\n",
       "      <td>S</td>\n",
       "      <td>N</td>\n",
       "      <td>F</td>\n",
       "      <td>GRAYS</td>\n",
       "      <td>THURROCK</td>\n",
       "      <td>THURROCK</td>\n",
       "      <td>A</td>\n",
       "      <td>A</td>\n",
       "    </tr>\n",
       "    <tr>\n",
       "      <th>2</th>\n",
       "      <td>{278D581A-5BF3-4FCE-AF62-4956D87691E6}</td>\n",
       "      <td>45000</td>\n",
       "      <td>1995-06-30 00:00</td>\n",
       "      <td>T</td>\n",
       "      <td>N</td>\n",
       "      <td>F</td>\n",
       "      <td>HIGHBRIDGE</td>\n",
       "      <td>SEDGEMOOR</td>\n",
       "      <td>SOMERSET</td>\n",
       "      <td>A</td>\n",
       "      <td>A</td>\n",
       "    </tr>\n",
       "    <tr>\n",
       "      <th>3</th>\n",
       "      <td>{1D861C06-A416-4865-973C-4956DB12CD12}</td>\n",
       "      <td>43150</td>\n",
       "      <td>1995-11-24 00:00</td>\n",
       "      <td>T</td>\n",
       "      <td>N</td>\n",
       "      <td>F</td>\n",
       "      <td>BEDFORD</td>\n",
       "      <td>NORTH BEDFORDSHIRE</td>\n",
       "      <td>BEDFORDSHIRE</td>\n",
       "      <td>A</td>\n",
       "      <td>A</td>\n",
       "    </tr>\n",
       "    <tr>\n",
       "      <th>4</th>\n",
       "      <td>{DD8645FD-A815-43A6-A7BA-4956E58F1874}</td>\n",
       "      <td>18899</td>\n",
       "      <td>1995-06-23 00:00</td>\n",
       "      <td>S</td>\n",
       "      <td>N</td>\n",
       "      <td>F</td>\n",
       "      <td>WAKEFIELD</td>\n",
       "      <td>LEEDS</td>\n",
       "      <td>WEST YORKSHIRE</td>\n",
       "      <td>A</td>\n",
       "      <td>A</td>\n",
       "    </tr>\n",
       "  </tbody>\n",
       "</table>\n",
       "</div>"
      ],
      "text/plain": [
       "            Transaction unique identifier  Price  Date of Transfer  \\\n",
       "0  {81B82214-7FBC-4129-9F6B-4956B4A663AD}  25000  1995-08-18 00:00   \n",
       "1  {8046EC72-1466-42D6-A753-4956BF7CD8A2}  42500  1995-08-09 00:00   \n",
       "2  {278D581A-5BF3-4FCE-AF62-4956D87691E6}  45000  1995-06-30 00:00   \n",
       "3  {1D861C06-A416-4865-973C-4956DB12CD12}  43150  1995-11-24 00:00   \n",
       "4  {DD8645FD-A815-43A6-A7BA-4956E58F1874}  18899  1995-06-23 00:00   \n",
       "\n",
       "  Property Type Old/New Duration   Town/City            District  \\\n",
       "0             T       N        F      OLDHAM              OLDHAM   \n",
       "1             S       N        F       GRAYS            THURROCK   \n",
       "2             T       N        F  HIGHBRIDGE           SEDGEMOOR   \n",
       "3             T       N        F     BEDFORD  NORTH BEDFORDSHIRE   \n",
       "4             S       N        F   WAKEFIELD               LEEDS   \n",
       "\n",
       "               County PPDCategory Type Record Status - monthly file only  \n",
       "0  GREATER MANCHESTER                A                                 A  \n",
       "1            THURROCK                A                                 A  \n",
       "2            SOMERSET                A                                 A  \n",
       "3        BEDFORDSHIRE                A                                 A  \n",
       "4      WEST YORKSHIRE                A                                 A  "
      ]
     },
     "execution_count": 4,
     "metadata": {},
     "output_type": "execute_result"
    }
   ],
   "source": [
    "df_chunk.head()"
   ]
  },
  {
   "cell_type": "markdown",
   "id": "b3d1a84f",
   "metadata": {},
   "source": [
    "---\n"
   ]
  },
  {
   "cell_type": "markdown",
   "id": "0c5222e1",
   "metadata": {},
   "source": [
    "### Check Column Data Types\n",
    "\n",
    "print out the data type of each column to ensure values like dates and numbers are correctly interpreted this will helps avoid errors later "
   ]
  },
  {
   "cell_type": "code",
   "execution_count": 5,
   "id": "6dad5b79",
   "metadata": {},
   "outputs": [
    {
     "name": "stdout",
     "output_type": "stream",
     "text": [
      "Column Data Types:\n",
      "Transaction unique identifier        object\n",
      "Price                                 int64\n",
      "Date of Transfer                     object\n",
      "Property Type                        object\n",
      "Old/New                              object\n",
      "Duration                             object\n",
      "Town/City                            object\n",
      "District                             object\n",
      "County                               object\n",
      "PPDCategory Type                     object\n",
      "Record Status - monthly file only    object\n",
      "dtype: object\n"
     ]
    }
   ],
   "source": [
    "print(\"Column Data Types:\")\n",
    "print(df_chunk.dtypes)"
   ]
  },
  {
   "cell_type": "markdown",
   "id": "dd39560c",
   "metadata": {},
   "source": [
    "---"
   ]
  },
  {
   "cell_type": "markdown",
   "id": "33594b4d",
   "metadata": {},
   "source": [
    "### View Value Counts for Categorical Columns\n",
    "\n",
    "This shows how many unique values appear in key categorical columns like property type, town, and whether the house is new or old. It helps spot unbalanced or unexpected values."
   ]
  },
  {
   "cell_type": "code",
   "execution_count": 6,
   "id": "1c0c8d71",
   "metadata": {},
   "outputs": [
    {
     "name": "stdout",
     "output_type": "stream",
     "text": [
      "\n",
      "Value counts for Property Type:\n",
      "Property Type\n",
      "S    328\n",
      "T    316\n",
      "D    232\n",
      "F    124\n",
      "Name: count, dtype: int64\n",
      "\n",
      "Value counts for Old/New:\n",
      "Old/New\n",
      "N    865\n",
      "Y    135\n",
      "Name: count, dtype: int64\n",
      "\n",
      "Value counts for Duration:\n",
      "Duration\n",
      "F    806\n",
      "L    194\n",
      "Name: count, dtype: int64\n",
      "\n",
      "Value counts for County:\n",
      "County\n",
      "GREATER LONDON           121\n",
      "WEST MIDLANDS             43\n",
      "GREATER MANCHESTER        40\n",
      "WEST YORKSHIRE            38\n",
      "ESSEX                     36\n",
      "                        ... \n",
      "SLOUGH                     1\n",
      "RUTLAND                    1\n",
      "CONWY                      1\n",
      "SOUTH GLOUCESTERSHIRE      1\n",
      "YORK                       1\n",
      "Name: count, Length: 85, dtype: int64\n",
      "\n",
      "Value counts for Town/City:\n",
      "Town/City\n",
      "LONDON                67\n",
      "BIRMINGHAM            15\n",
      "LEICESTER             14\n",
      "MANCHESTER            14\n",
      "NOTTINGHAM            13\n",
      "                      ..\n",
      "HYTHE                  1\n",
      "SURBITON               1\n",
      "MALVERN                1\n",
      "CHALFONT ST. GILES     1\n",
      "HELSTON                1\n",
      "Name: count, Length: 449, dtype: int64\n"
     ]
    }
   ],
   "source": [
    "categorical_cols = [\"Property Type\", \"Old/New\", \"Duration\", \"County\", \"Town/City\"]\n",
    "for col in categorical_cols:\n",
    "    print(f\"\\nValue counts for {col}:\")\n",
    "    print(df_chunk[col].value_counts())"
   ]
  },
  {
   "cell_type": "markdown",
   "id": "586018e8",
   "metadata": {},
   "source": [
    "### Handle Missing Values\n",
    "\n",
    "---\n",
    "\n",
    "this Check for any missing data values in key columns like \"Price\" or \"Date of Transfer\" so we remove those rows for analysis"
   ]
  },
  {
   "cell_type": "code",
   "execution_count": 7,
   "id": "f90d3984",
   "metadata": {},
   "outputs": [
    {
     "name": "stdout",
     "output_type": "stream",
     "text": [
      "Missing values in each column:\n",
      "Transaction unique identifier        0\n",
      "Price                                0\n",
      "Date of Transfer                     0\n",
      "Property Type                        0\n",
      "Old/New                              0\n",
      "Duration                             0\n",
      "Town/City                            0\n",
      "District                             0\n",
      "County                               0\n",
      "PPDCategory Type                     0\n",
      "Record Status - monthly file only    0\n",
      "dtype: int64\n",
      "Shape after dropping missing price/date: (1000, 11)\n"
     ]
    }
   ],
   "source": [
    "\n",
    "print(\"Missing values in each column:\")\n",
    "print(df_chunk.isnull().sum())\n",
    "\n",
    "df_chunk.dropna(subset=[\"Price\", \"Date of Transfer\"], inplace=True)\n",
    "print(f\"Shape after dropping missing price/date: {df_chunk.shape}\")"
   ]
  },
  {
   "cell_type": "markdown",
   "id": "1166683c",
   "metadata": {},
   "source": [
    "---"
   ]
  },
  {
   "cell_type": "markdown",
   "id": "d59bb65d",
   "metadata": {},
   "source": [
    "### Cleaning "
   ]
  },
  {
   "cell_type": "markdown",
   "id": "79f825b5",
   "metadata": {},
   "source": [
    "now i can remove columns that are not useful for my analysis or modeling to simplify the dataset."
   ]
  },
  {
   "cell_type": "code",
   "execution_count": 8,
   "id": "d53db667",
   "metadata": {},
   "outputs": [],
   "source": [
    "df_chunk.drop(columns=[\n",
    "    \"Transaction unique identifier\",\n",
    "    \"District\",\n",
    "    \"Record Status - monthly file only\"\n",
    "], inplace=True, errors='ignore')"
   ]
  },
  {
   "cell_type": "markdown",
   "id": "98970b7d",
   "metadata": {},
   "source": [
    "Converting the \"Date of Transfer\" column from text to proper datetime format so i can extract time-based features."
   ]
  },
  {
   "cell_type": "code",
   "execution_count": 9,
   "id": "7e03b775",
   "metadata": {},
   "outputs": [],
   "source": [
    "df_chunk[\"Date of Transfer\"] = pd.to_datetime(df_chunk[\"Date of Transfer\"], errors='coerce')"
   ]
  },
  {
   "cell_type": "markdown",
   "id": "190eeac6",
   "metadata": {},
   "source": [
    "Extract the year and month from the \"Date of Transfer\" column and store them in new columns to allow time-based analysis."
   ]
  },
  {
   "cell_type": "code",
   "execution_count": 10,
   "id": "ea33d660",
   "metadata": {},
   "outputs": [],
   "source": [
    "df_chunk[\"Year\"] = df_chunk[\"Date of Transfer\"].dt.year\n",
    "df_chunk[\"Month\"] = df_chunk[\"Date of Transfer\"].dt.month"
   ]
  },
  {
   "cell_type": "markdown",
   "id": "38eb7d84",
   "metadata": {},
   "source": [
    "Convert text categories into numeric format so they can be used in machine learning models:\n",
    "- Old/New: N = 0, Y = 1\n",
    "- Duration: F (Freehold) = 1, L (Leasehold) = 0\n",
    "- Property Type are put into separate columns (Property_D, Property_F)"
   ]
  },
  {
   "cell_type": "code",
   "execution_count": 11,
   "id": "5a9fc64c",
   "metadata": {},
   "outputs": [],
   "source": [
    "df_chunk[\"Old/New\"] = df_chunk[\"Old/New\"].map({'N': 0, 'Y': 1})\n",
    "df_chunk[\"Duration\"] = df_chunk[\"Duration\"].map({'F': 1, 'L': 0})\n",
    "df_chunk = pd.get_dummies(df_chunk, columns=[\"Property Type\"], prefix=\"Property\")"
   ]
  },
  {
   "cell_type": "markdown",
   "id": "d76fcbcd",
   "metadata": {},
   "source": [
    "Remove duplicate rows to keep the dataset clean and reset the index to keep row numbers in order."
   ]
  },
  {
   "cell_type": "code",
   "execution_count": 12,
   "id": "34b3383e",
   "metadata": {},
   "outputs": [],
   "source": [
    "# Drop duplicates\n",
    "df_chunk.drop_duplicates(inplace=True)\n",
    "df_chunk.reset_index(drop=True, inplace=True)"
   ]
  },
  {
   "cell_type": "markdown",
   "id": "e3c47d8e",
   "metadata": {},
   "source": [
    "---"
   ]
  },
  {
   "cell_type": "markdown",
   "id": "5d7afb9f",
   "metadata": {},
   "source": [
    "## Save cleaned data"
   ]
  },
  {
   "cell_type": "markdown",
   "id": "0481af34",
   "metadata": {},
   "source": [
    "Save the cleaned dataset and will creates the folder if it doesn't exist and saves the file without the index column"
   ]
  },
  {
   "cell_type": "code",
   "execution_count": 13,
   "id": "d49945bf",
   "metadata": {},
   "outputs": [
    {
     "name": "stdout",
     "output_type": "stream",
     "text": [
      "Cleaned data saved to: ../outputs/datasets/collection/HousePricesRecords_clean.csv\n"
     ]
    }
   ],
   "source": [
    "# Save cleaned data\n",
    "output_path = '../outputs/datasets/collection/HousePricesRecords_clean.csv'\n",
    "os.makedirs(os.path.dirname(output_path), exist_ok=True)\n",
    "df_chunk.to_csv(output_path, index=False)\n",
    "print(f\"Cleaned data saved to: {output_path}\")"
   ]
  }
 ],
 "metadata": {
  "kernelspec": {
   "display_name": "Python 3",
   "language": "python",
   "name": "python3"
  },
  "language_info": {
   "codemirror_mode": {
    "name": "ipython",
    "version": 3
   },
   "file_extension": ".py",
   "mimetype": "text/x-python",
   "name": "python",
   "nbconvert_exporter": "python",
   "pygments_lexer": "ipython3",
   "version": "3.12.1"
  }
 },
 "nbformat": 4,
 "nbformat_minor": 5
}
